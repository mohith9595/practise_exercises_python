{
 "cells": [
  {
   "cell_type": "code",
   "execution_count": 47,
   "id": "a9458447",
   "metadata": {},
   "outputs": [
    {
     "name": "stdout",
     "output_type": "stream",
     "text": [
      "www.pythoninstitute.org\n"
     ]
    }
   ],
   "source": [
    "print(\"www.pythoninstitute.org\".lstrip(\" \"))"
   ]
  },
  {
   "cell_type": "code",
   "execution_count": 9,
   "id": "6e75ac37",
   "metadata": {},
   "outputs": [
    {
     "name": "stdout",
     "output_type": "stream",
     "text": [
      "www.pythoninstitute.org\n",
      "Thare are it!\n",
      "Apple \n"
     ]
    }
   ],
   "source": [
    "print(\"www.netacad.com\".replace(\"netacad.com\", \"pythoninstitute.org\"))\n",
    "print(\"This is it!\".replace(\"is\", \"are\"))\n",
    "print(\"Apple juice\".replace(\"juice\", \"\"))"
   ]
  },
  {
   "cell_type": "code",
   "execution_count": 10,
   "id": "960d8a31",
   "metadata": {},
   "outputs": [
    {
     "name": "stdout",
     "output_type": "stream",
     "text": [
      "[tau ]\n"
     ]
    }
   ],
   "source": [
    "print(\"[\" + \" tau \".lstrip() + \"]\")"
   ]
  },
  {
   "cell_type": "code",
   "execution_count": 11,
   "id": "a5947726",
   "metadata": {},
   "outputs": [
    {
     "name": "stdout",
     "output_type": "stream",
     "text": [
      "sigma=60\n"
     ]
    }
   ],
   "source": [
    "print(\"SiGmA=60\".lower())"
   ]
  },
  {
   "cell_type": "code",
   "execution_count": 12,
   "id": "78ca9127",
   "metadata": {},
   "outputs": [
    {
     "name": "stdout",
     "output_type": "stream",
     "text": [
      "omicron,pi,rho\n"
     ]
    }
   ],
   "source": [
    "print(\",\".join([\"omicron\", \"pi\", \"rho\"]))"
   ]
  },
  {
   "cell_type": "code",
   "execution_count": 13,
   "id": "21c5706e",
   "metadata": {},
   "outputs": [
    {
     "name": "stdout",
     "output_type": "stream",
     "text": [
      "False\n",
      "False\n",
      "True\n"
     ]
    }
   ],
   "source": [
    "print(\"Moooo\".isupper())\n",
    "print('moooo'.isupper())\n",
    "print('MOOOO'.isupper())"
   ]
  },
  {
   "cell_type": "code",
   "execution_count": 14,
   "id": "d2e4b065",
   "metadata": {},
   "outputs": [
    {
     "name": "stdout",
     "output_type": "stream",
     "text": [
      "True\n",
      "True\n",
      "False\n"
     ]
    }
   ],
   "source": [
    "print(' \\n '.isspace())\n",
    "print(\" \".isspace())\n",
    "print(\"mooo mooo mooo\".isspace())"
   ]
  },
  {
   "cell_type": "code",
   "execution_count": 15,
   "id": "9402b9f7",
   "metadata": {},
   "outputs": [
    {
     "name": "stdout",
     "output_type": "stream",
     "text": [
      "False\n",
      "True\n"
     ]
    }
   ],
   "source": [
    "print(\"Moooo\".islower())\n",
    "print('moooo'.islower())"
   ]
  },
  {
   "cell_type": "code",
   "execution_count": 16,
   "id": "9d1180c7",
   "metadata": {},
   "outputs": [
    {
     "name": "stdout",
     "output_type": "stream",
     "text": [
      "True\n",
      "False\n"
     ]
    }
   ],
   "source": [
    "print('2018'.isdigit())\n",
    "print(\"Year2019\".isdigit())"
   ]
  },
  {
   "cell_type": "code",
   "execution_count": 17,
   "id": "4dff03ba",
   "metadata": {},
   "outputs": [
    {
     "name": "stdout",
     "output_type": "stream",
     "text": [
      "True\n",
      "False\n"
     ]
    }
   ],
   "source": [
    "print(\"Moooo\".isalpha())\n",
    "print('Mu40'.isalpha())"
   ]
  },
  {
   "cell_type": "code",
   "execution_count": 18,
   "id": "250eb1a3",
   "metadata": {},
   "outputs": [
    {
     "name": "stdout",
     "output_type": "stream",
     "text": [
      "False\n",
      "False\n",
      "True\n"
     ]
    }
   ],
   "source": [
    "t = 'Six lambdas'\n",
    "print(t.isalnum())\n",
    "\n",
    "t = '&Alpha;&beta;&Gamma;&delta;'\n",
    "print(t.isalnum())\n",
    "\n",
    "t = '20E1'\n",
    "print(t.isalnum())"
   ]
  },
  {
   "cell_type": "code",
   "execution_count": 24,
   "id": "740d9dfe",
   "metadata": {},
   "outputs": [
    {
     "name": "stdout",
     "output_type": "stream",
     "text": [
      "True\n",
      "True\n",
      "True\n",
      "False\n",
      "False\n",
      "False\n"
     ]
    }
   ],
   "source": [
    "print('lambda30'.isalnum())\n",
    "print('lambda'.isalnum())\n",
    "print('30'.isalnum())\n",
    "print('@'.isalnum())\n",
    "print('lambda_30'.isalnum())\n",
    "print('£'.isalnum())"
   ]
  },
  {
   "cell_type": "code",
   "execution_count": 20,
   "id": "aeea7d14",
   "metadata": {},
   "outputs": [
    {
     "name": "stdout",
     "output_type": "stream",
     "text": [
      "1\n",
      "-1\n"
     ]
    }
   ],
   "source": [
    "print('kappa'.find('a', 1, 4))\n",
    "print('kappa'.find('a', 2, 4))"
   ]
  },
  {
   "cell_type": "code",
   "execution_count": 22,
   "id": "c306ba9d",
   "metadata": {},
   "outputs": [
    {
     "name": "stdout",
     "output_type": "stream",
     "text": [
      "15\n",
      "80\n",
      "198\n",
      "221\n",
      "238\n"
     ]
    }
   ],
   "source": [
    "the_text = \"\"\"A variation of the ordinary lorem ipsum\n",
    "text has been used in typesetting since the 1960s \n",
    "or earlier, when it was popularized by advertisements \n",
    "for Letraset transfer sheets. It was introduced to \n",
    "the Information Age in the mid-1980s by the Aldus Corporation, \n",
    "which employed it in graphics and word-processing templates\n",
    "for its desktop publishing program PageMaker (from Wikipedia)\"\"\"\n",
    "\n",
    "fnd = the_text.find('the')\n",
    "while fnd != -1:\n",
    "    print(fnd)\n",
    "    fnd = the_text.find('the', fnd + 1)"
   ]
  },
  {
   "cell_type": "code",
   "execution_count": 25,
   "id": "d3de81d9",
   "metadata": {},
   "outputs": [
    {
     "name": "stdout",
     "output_type": "stream",
     "text": [
      "2\n",
      "2\n",
      "0\n",
      "-1\n"
     ]
    }
   ],
   "source": [
    "t = 'theta'\n",
    "print(t.find('eta'))\n",
    "print(t.find('et'))\n",
    "print(t.find('the'))\n",
    "print(t.find('ha'))\n"
   ]
  },
  {
   "cell_type": "code",
   "execution_count": 26,
   "id": "74e2bf10",
   "metadata": {},
   "outputs": [
    {
     "name": "stdout",
     "output_type": "stream",
     "text": [
      "1\n",
      "-1\n"
     ]
    }
   ],
   "source": [
    "print(\"Eta\".find(\"ta\"))\n",
    "print(\"Eta\".find(\"mma\"))"
   ]
  },
  {
   "cell_type": "code",
   "execution_count": 27,
   "id": "377dc632",
   "metadata": {},
   "outputs": [
    {
     "name": "stdout",
     "output_type": "stream",
     "text": [
      "True\n",
      "False\n",
      "False\n",
      "True\n"
     ]
    }
   ],
   "source": [
    "t = \"zeta\"\n",
    "print(t.endswith(\"a\"))\n",
    "print(t.endswith(\"A\"))\n",
    "print(t.endswith(\"et\"))\n",
    "print(t.endswith(\"eta\"))"
   ]
  },
  {
   "cell_type": "code",
   "execution_count": 28,
   "id": "75dbeafb",
   "metadata": {},
   "outputs": [
    {
     "name": "stdout",
     "output_type": "stream",
     "text": [
      "yes\n"
     ]
    }
   ],
   "source": [
    "if \"epsilon\".endswith(\"on\"):\n",
    "    print(\"yes\")\n",
    "else:\n",
    "    print(\"no\")\n"
   ]
  },
  {
   "cell_type": "code",
   "execution_count": 29,
   "id": "d7f6a9c6",
   "metadata": {},
   "outputs": [
    {
     "name": "stdout",
     "output_type": "stream",
     "text": [
      "[*******gamma********]\n"
     ]
    }
   ],
   "source": [
    "print('[' + 'gamma'.center(20, '*') + ']')"
   ]
  },
  {
   "cell_type": "code",
   "execution_count": 30,
   "id": "806c5f94",
   "metadata": {},
   "outputs": [
    {
     "name": "stdout",
     "output_type": "stream",
     "text": [
      "[        Beta        ]\n",
      "[                Beta               ]\n",
      "[                       Beta                       ]\n"
     ]
    }
   ],
   "source": [
    "print('[' + 'Beta'.center(20) + ']')\n",
    "print('[' + 'Beta'.center(35) + ']')\n",
    "print('[' + 'Beta'.center(50) + ']')"
   ]
  },
  {
   "cell_type": "code",
   "execution_count": 31,
   "id": "2b8c7060",
   "metadata": {},
   "outputs": [
    {
     "name": "stdout",
     "output_type": "stream",
     "text": [
      "Alpha\n",
      "Alpha\n",
      " alpha\n",
      "123\n",
      "Αβγδ\n"
     ]
    }
   ],
   "source": [
    "print(\"Alpha\".capitalize())\n",
    "print('ALPHA'.capitalize())\n",
    "print(' Alpha'.capitalize())\n",
    "print('123'.capitalize())\n",
    "print(\"αβγδ\".capitalize())\n",
    "    "
   ]
  },
  {
   "cell_type": "code",
   "execution_count": 35,
   "id": "968a722f",
   "metadata": {},
   "outputs": [
    {
     "name": "stdout",
     "output_type": "stream",
     "text": [
      "8\n",
      "-1\n",
      "4\n"
     ]
    }
   ],
   "source": [
    "print(\"tau tau tau\".rfind(\"ta\"))\n",
    "print(\"tau tau tau\".rfind(\"ta\", 9))\n",
    "print(\"tau tau tau\".rfind(\"ta\", 3, 9))"
   ]
  },
  {
   "cell_type": "code",
   "execution_count": 36,
   "id": "185318fd",
   "metadata": {},
   "outputs": [
    {
     "name": "stdout",
     "output_type": "stream",
     "text": [
      "[ upsilon]\n",
      "cis\n"
     ]
    }
   ],
   "source": [
    "print(\"[\" + \" upsilon \".rstrip() + \"]\")\n",
    "print(\"cisco.com\".rstrip(\".com\"))"
   ]
  },
  {
   "cell_type": "code",
   "execution_count": 37,
   "id": "5a539f45",
   "metadata": {},
   "outputs": [
    {
     "name": "stdout",
     "output_type": "stream",
     "text": [
      "['phi', 'chi', 'psi']\n"
     ]
    }
   ],
   "source": [
    "print(\"phi       chi\\npsi\".split())"
   ]
  },
  {
   "cell_type": "code",
   "execution_count": 38,
   "id": "668eaa41",
   "metadata": {},
   "outputs": [
    {
     "name": "stdout",
     "output_type": "stream",
     "text": [
      "False\n",
      "True\n",
      "\n"
     ]
    }
   ],
   "source": [
    "print(\"omega\".startswith(\"meg\"))\n",
    "print(\"omega\".startswith(\"om\"))\n",
    "\n",
    "print()"
   ]
  },
  {
   "cell_type": "code",
   "execution_count": 40,
   "id": "f795477a",
   "metadata": {},
   "outputs": [
    {
     "name": "stdout",
     "output_type": "stream",
     "text": [
      "[aleph]\n"
     ]
    }
   ],
   "source": [
    "print(\"[\" + \"   aleph   \".strip() + \"]\")"
   ]
  },
  {
   "cell_type": "code",
   "execution_count": 41,
   "id": "b5bd5474",
   "metadata": {},
   "outputs": [
    {
     "name": "stdout",
     "output_type": "stream",
     "text": [
      "i KNOW THAT i KNOW NOTHING.\n",
      "\n"
     ]
    }
   ],
   "source": [
    "print(\"I know that I know nothing.\".swapcase())\n",
    "\n",
    "print()"
   ]
  },
  {
   "cell_type": "code",
   "execution_count": 42,
   "id": "4eeb2c0a",
   "metadata": {},
   "outputs": [
    {
     "name": "stdout",
     "output_type": "stream",
     "text": [
      "I Know That I Know Nothing. Part 1.\n",
      "\n"
     ]
    }
   ],
   "source": [
    "print(\"I know that I know nothing. Part 1.\".title())\n",
    "\n",
    "print()"
   ]
  },
  {
   "cell_type": "code",
   "execution_count": 43,
   "id": "6fff82b0",
   "metadata": {},
   "outputs": [
    {
     "name": "stdout",
     "output_type": "stream",
     "text": [
      "I KNOW THAT I KNOW NOTHING. PART 2.\n"
     ]
    }
   ],
   "source": [
    "print(\"I know that I know nothing. Part 2.\".upper())"
   ]
  },
  {
   "cell_type": "code",
   "execution_count": 44,
   "id": "a6c78214",
   "metadata": {},
   "outputs": [
    {
     "name": "stdout",
     "output_type": "stream",
     "text": [
      "['To', 'be', 'or', 'not', 'to', 'be,', 'that', 'is', 'the', 'question']\n",
      "['To', 'be', 'or', 'not', 'to', 'be,that', 'is', 'the', 'question']\n",
      "[]\n",
      "['abc']\n",
      "[]\n"
     ]
    }
   ],
   "source": [
    "def mysplit(strng):\n",
    "    # return [] if string is empty or contains whitespaces only\n",
    "    if strng == '' or strng.isspace():\n",
    "        return [ ]\n",
    "    # prepare a list to return\n",
    "    lst = []\n",
    "    # prepare a word to build subsequent words\n",
    "    word = ''\n",
    "    # check if we are currently inside a word (i.e., if the string starts with a word)\n",
    "    inword = not strng[0].isspace()\n",
    "    # iterate through all the characters in the string\n",
    "    for x in strng:\n",
    "        # if we are currently inside a string...\n",
    "        if inword:\n",
    "            # ... and the current character is not a space...\n",
    "            if not x.isspace():\n",
    "                # ... update the current word\n",
    "                word = word + x\n",
    "            else:\n",
    "                # ... otherwise, we've reached the end of the word so we need to append it to the list...\n",
    "                lst.append(word)\n",
    "                # ... and signal the fact that we are outside the word now\n",
    "                inword = False\n",
    "        else:\n",
    "            # if we are outside the word and we've reached a non-white character...\n",
    "            if not x.isspace():\n",
    "                # ... it means that a new word has begun so we need to remember it and...\n",
    "                inword = True\n",
    "                # ... store the first letter of the new word\n",
    "                word = x\n",
    "            else:\n",
    "                pass\n",
    "    # if we've left the string and there is a non-empty string in the word, we need to update the list\n",
    "    if inword:\n",
    "        lst.append(word)\n",
    "    # return the list to the invoker\n",
    "    return lst\n",
    "\n",
    "\n",
    "print(mysplit(\"To be or not to be, that is the question\"))\n",
    "print(mysplit(\"To be or not to be,that is the question\"))\n",
    "print(mysplit(\"   \"))\n",
    "print(mysplit(\" abc \"))\n",
    "print(mysplit(\"\"))"
   ]
  },
  {
   "cell_type": "code",
   "execution_count": 48,
   "id": "d1f6b080",
   "metadata": {},
   "outputs": [
    {
     "name": "stdout",
     "output_type": "stream",
     "text": [
      "['omega', 'alpha', 'pi', 'gamma']\n",
      "['alpha', 'gamma', 'omega', 'pi']\n",
      "\n"
     ]
    }
   ],
   "source": [
    "first_greek = ['omega', 'alpha', 'pi', 'gamma']\n",
    "first_greek_2 = sorted(first_greek)\n",
    "\n",
    "print(first_greek)\n",
    "print(first_greek_2)\n",
    "\n",
    "print()\n"
   ]
  },
  {
   "cell_type": "code",
   "execution_count": 141,
   "id": "657d60ff",
   "metadata": {},
   "outputs": [
    {
     "name": "stdout",
     "output_type": "stream",
     "text": [
      "['omega', 'alpha', 'pi', 'gamma']\n",
      "['alpha', 'gamma', 'omega', 'pi']\n",
      "\n"
     ]
    }
   ],
   "source": [
    "first_greek = ['omega', 'alpha', 'pi', 'gamma']\n",
    "first_greek_2 = sorted(first_greek)\n",
    "\n",
    "print(first_greek)\n",
    "print(first_greek_2)\n",
    "\n",
    "print()\n"
   ]
  },
  {
   "cell_type": "code",
   "execution_count": 142,
   "id": "463cb197",
   "metadata": {},
   "outputs": [
    {
     "name": "stdout",
     "output_type": "stream",
     "text": [
      "13 1.3\n"
     ]
    }
   ],
   "source": [
    "itg = 13\n",
    "flt = 1.3\n",
    "si = str(itg)\n",
    "sf = str(flt)\n",
    "\n",
    "print(si + ' ' + sf)\n",
    "    "
   ]
  },
  {
   "cell_type": "code",
   "execution_count": 143,
   "id": "514ec51b",
   "metadata": {},
   "outputs": [
    {
     "name": "stdout",
     "output_type": "stream",
     "text": [
      "13 1.3\n"
     ]
    }
   ],
   "source": [
    "itg = 13\n",
    "flt = 1.3\n",
    "si = str(itg)\n",
    "sf = str(flt)\n",
    "\n",
    "print(si + ' ' + sf)\n",
    "    "
   ]
  },
  {
   "cell_type": "code",
   "execution_count": 144,
   "id": "4f14f036",
   "metadata": {},
   "outputs": [
    {
     "name": "stdout",
     "output_type": "stream",
     "text": [
      "Enter the number you wish to display: 22\n",
      "### ### \n",
      "  #   # \n",
      "### ### \n",
      "#   #   \n",
      "### ### \n"
     ]
    }
   ],
   "source": [
    "digits = [ '1111110',  \t# 0\n",
    "\t   '0110000',\t# 1\n",
    "\t   '1101101',\t# 2\n",
    "\t   '1111001',\t# 3\n",
    "\t   '0110011',\t# 4\n",
    "\t   '1011011',\t# 5\n",
    "\t   '1011111',\t# 6\n",
    "\t   '1110000',\t# 7\n",
    "\t   '1111111',\t# 8\n",
    "\t   '1111011',\t# 9\n",
    "\t   ]\n",
    "\n",
    "def print_number(num):\n",
    "\tglobal digits\n",
    "\tdigs = str(num)\n",
    "\tlines = [ '' for lin in range(5) ]\n",
    "\tfor d in digs:\n",
    "\t\tsegs = [ [' ',' ',' '] for lin in range(5) ]\n",
    "\t\tptrn = digits[ord(d) - ord('0')]\n",
    "\t\tif ptrn[0] == '1':\n",
    "\t\t\tsegs[0][0] = segs[0][1] = segs[0][2] = '#'\n",
    "\t\tif ptrn[1] == '1':\n",
    "\t\t\tsegs[0][2] = segs[1][2] = segs[2][2] = '#'\n",
    "\t\tif ptrn[2] == '1':\n",
    "\t\t\tsegs[2][2] = segs[3][2] = segs[4][2] = '#'\n",
    "\t\tif ptrn[3] == '1':\n",
    "\t\t\tsegs[4][0] = segs[4][1] = segs[4][2] = '#'\n",
    "\t\tif ptrn[4] == '1':\n",
    "\t\t\tsegs[2][0] = segs[3][0] = segs[4][0] = '#'\n",
    "\t\tif ptrn[5] == '1':\n",
    "\t\t\tsegs[0][0] = segs[1][0] = segs[2][0] = '#'\n",
    "\t\tif ptrn[6] == '1':\n",
    "\t\t\tsegs[2][0] = segs[2][1] = segs[2][2] = '#'\n",
    "\t\tfor lin in range(5):\n",
    "\t\t\tlines[lin] += ''.join(segs[lin]) + ' '\n",
    "\tfor lin in lines:\n",
    "\t\tprint(lin)\n",
    "\n",
    "\n",
    "print_number(int(input(\"Enter the number you wish to display: \")))\n",
    "    "
   ]
  },
  {
   "cell_type": "code",
   "execution_count": 145,
   "id": "7bab0f48",
   "metadata": {},
   "outputs": [
    {
     "name": "stdout",
     "output_type": "stream",
     "text": [
      "Enter your message: plm\n",
      "QMN\n"
     ]
    }
   ],
   "source": [
    "text = input(\"Enter your message: \")\n",
    "cipher = ''\n",
    "for char in text:\n",
    "    if not char.isalpha():\n",
    "        continue\n",
    "    char = char.upper()\n",
    "    code = ord(char) + 1\n",
    "    if code > ord('Z'):\n",
    "        code = ord('A')\n",
    "    cipher += chr(code)\n",
    "\n",
    "print(cipher)"
   ]
  },
  {
   "cell_type": "code",
   "execution_count": 147,
   "id": "1fae1bae",
   "metadata": {},
   "outputs": [
    {
     "name": "stdout",
     "output_type": "stream",
     "text": [
      "Enter your cryptogram: \n",
      "\n"
     ]
    }
   ],
   "source": [
    "cipher = input('Enter your cryptogram: ')\n",
    "text = ''\n",
    "for char in cipher:\n",
    "    if not char.isalpha():\n",
    "        continue\n",
    "    char = char.upper()\n",
    "    code = ord(char) - 1\n",
    "    if code < ord('A'):\n",
    "        code = ord('Z')    \n",
    "    text += chr(code)\n",
    "\n",
    "    \n",
    "print(text)\n",
    "    "
   ]
  },
  {
   "cell_type": "code",
   "execution_count": 2,
   "id": "ea1b4799",
   "metadata": {},
   "outputs": [
    {
     "name": "stdout",
     "output_type": "stream",
     "text": [
      "Enter a line of numbers - separate them with spaces: 9 9\n",
      "The total is: 18.0\n"
     ]
    }
   ],
   "source": [
    "line = input(\"Enter a line of numbers - separate them with spaces: \")\n",
    "strings = line.split()\n",
    "total = 0\n",
    "try:\n",
    "    for substr in strings:\n",
    "        total += float(substr)\n",
    "    print(\"The total is:\", total)\n",
    "except:\n",
    "    print(substr, \"is not a number.\")"
   ]
  },
  {
   "cell_type": "code",
   "execution_count": 5,
   "id": "703fa946",
   "metadata": {},
   "outputs": [
    {
     "name": "stdout",
     "output_type": "stream",
     "text": [
      "Enter IBAN, please: hgfjjg&%^\n",
      "You have entered invalid characters.\n"
     ]
    }
   ],
   "source": [
    "# IBAN Validator.\n",
    "\n",
    "iban = input(\"Enter IBAN, please: \")\n",
    "iban = iban.replace(' ','')\n",
    "\n",
    "if not iban.isalnum():\n",
    "    print(\"You have entered invalid characters.\")\n",
    "elif len(iban) < 15:\n",
    "    print(\"IBAN entered is too short.\")\n",
    "elif len(iban) > 31:\n",
    "    print(\"IBAN entered is too long.\")\n",
    "else:\n",
    "    iban = (iban[4:] + iban[0:4]).upper()\n",
    "    iban2 = ''\n",
    "    for ch in iban:\n",
    "        if ch.isdigit():\n",
    "            iban2 += ch\n",
    "        else:\n",
    "            iban2 += str(10 + ord(ch) - ord('A'))\n",
    "    iban = int(iban2)\n",
    "    if iban % 97 == 1:\n",
    "        print(\"IBAN entered is valid.\")\n",
    "    else:\n",
    "        print(\"IBAN entered is invalid.\")\n",
    "    "
   ]
  },
  {
   "cell_type": "code",
   "execution_count": 111,
   "id": "eb6f7a15",
   "metadata": {},
   "outputs": [
    {
     "name": "stdout",
     "output_type": "stream",
     "text": [
      "Enter message: mohith\n",
      "Enter the cipher shift value (1..25): 20\n",
      "gibcnb\n"
     ]
    }
   ],
   "source": [
    "# Input the text you want to encrypt.\n",
    "text = input(\"Enter message: \")\n",
    "\n",
    "# Enter a valid shift value (repeat until it succeeds).\n",
    "shift = 0\n",
    "\n",
    "while shift == 0:\n",
    "    try:    \n",
    "        shift = int(input(\"Enter the cipher shift value (1..25): \"))\n",
    "        if shift not in range(1,26):\n",
    "        \traise ValueError\n",
    "    except ValueError:\n",
    "        shift = 0\n",
    "    if shift == 0:\n",
    "        print(\"Incorrect shift value!\")\n",
    "\n",
    "cipher = ''\n",
    "\n",
    "for char in text:\n",
    "    # Is it a letter?\n",
    "    if char.isalpha():\n",
    "        # Shift its code.\n",
    "        code = ord(char) + shift\n",
    "        # Find the code of the first letter (upper- or lower-case)\n",
    "        if char.isupper():\n",
    "            first = ord('A')\n",
    "        else:\n",
    "            first = ord('a')\n",
    "        # Make correction.\n",
    "        code -= first\n",
    "        code %= 26\n",
    "        # Append the encoded character to the message.\n",
    "        cipher += chr(first + code)\n",
    "    else:\n",
    "        # Append the original character to the message.\n",
    "        cipher += char\n",
    "\n",
    "print(cipher)\n",
    "    "
   ]
  },
  {
   "cell_type": "code",
   "execution_count": 9,
   "id": "16d14a9b",
   "metadata": {},
   "outputs": [
    {
     "name": "stdout",
     "output_type": "stream",
     "text": [
      "Enter text: hgh\n",
      "It's a palindrome\n"
     ]
    }
   ],
   "source": [
    "text = input(\"Enter text: \")\n",
    "\n",
    "# Remove all spaces...\n",
    "text = text.replace(' ',' ')\n",
    "\n",
    "# ... and check if the word is equal to reversed itself\n",
    "if len(text) > 1 and text.upper() == text[::-1].upper():\n",
    "\tprint(\"It's a palindrome\")\n",
    "else:\n",
    "\tprint(\"It's not a palindrome\")\n",
    "\t"
   ]
  },
  {
   "cell_type": "code",
   "execution_count": 10,
   "id": "3c081e6a",
   "metadata": {},
   "outputs": [
    {
     "name": "stdout",
     "output_type": "stream",
     "text": [
      "Enter the first string: hghg\n",
      "Enter the second string: hghg\n",
      "Anagrams\n"
     ]
    }
   ],
   "source": [
    "str_1 = input(\"Enter the first string: \")\n",
    "str_2 = input(\"Enter the second string: \")\n",
    "\n",
    "strx_1 = ''.join(sorted(list(str_1.upper().replace(' ',''))))\n",
    "strx_2 = ''.join(sorted(list(str_2.upper().replace(' ',''))))\n",
    "if len(strx_1) > 0 and strx_1 == strx_2:\n",
    "\tprint(\"Anagrams\")\n",
    "else:\n",
    "\tprint(\"Not anagrams\")\n",
    "\t"
   ]
  },
  {
   "cell_type": "code",
   "execution_count": 103,
   "id": "9af1ce9e",
   "metadata": {},
   "outputs": [
    {
     "name": "stdout",
     "output_type": "stream",
     "text": [
      "Enter your birthday date (in the following format: YYYYMMDD or YYYYDDMM, 8 digits): 09051995\n",
      "09051995\n",
      "38\n",
      "11\n",
      "Your Digit of Life is: 2\n"
     ]
    }
   ],
   "source": [
    "date = input(\"Enter your birthday date (in the following format: YYYYMMDD or YYYYDDMM, 8 digits): \")\n",
    "if len(date) != 8 or not date.isdigit():\n",
    "    print(\"Invalid date format.\")\n",
    "else:\n",
    "    while len(date) > 1:\n",
    "        the_sum = 0\n",
    "        for dig in date:\n",
    "            the_sum += int(dig)\n",
    "        print(date)\n",
    "        date = str(the_sum)\n",
    "    print(\"Your Digit of Life is: \" + date)\n",
    "\t"
   ]
  },
  {
   "cell_type": "code",
   "execution_count": 107,
   "id": "6cd9b9ac",
   "metadata": {},
   "outputs": [
    {
     "name": "stdout",
     "output_type": "stream",
     "text": [
      "Enter the word you wish to find: donor\n",
      "Enter the string you wish to search through: Nabucodonosor\n",
      "Yes\n"
     ]
    }
   ],
   "source": [
    "word = input(\"Enter the word you wish to find: \").upper()\n",
    "strn = input(\"Enter the string you wish to search through: \").upper()\n",
    "\n",
    "found = True\n",
    "start = 0\n",
    "\n",
    "for ch in word:\n",
    "\tpos = strn.find(ch, start) \n",
    "\tif pos < 0:\n",
    "\t\tfound = False\n",
    "\t\tbreak\n",
    "\tstart = pos + 1\n",
    "if found:\n",
    "\tprint(\"Yes\")\n",
    "else:\n",
    "\tprint(\"No\")\n",
    "\t   "
   ]
  },
  {
   "cell_type": "code",
   "execution_count": 109,
   "id": "331b2995",
   "metadata": {},
   "outputs": [
    {
     "name": "stdout",
     "output_type": "stream",
     "text": [
      "Enter row #1: 295743861\n",
      "Enter row #2: 431865927\n",
      "Enter row #3: 876192543\n",
      "Enter row #4: 387459216\n",
      "Enter row #5: 612387495\n",
      "Enter row #6: 549216738\n",
      "Enter row #7: 763524189\n",
      "Enter row #8: 928671354\n",
      "Enter row #9: 254938671\n",
      "No\n"
     ]
    }
   ],
   "source": [
    "# A function that checks whether a list passed as an argument contains\n",
    "# nine digits from '1' to '9'.\n",
    "def checkset(digs):\n",
    "    return sorted(list(digs)) == [chr(x + ord('0')) for x in range(1, 10)]\n",
    "\n",
    "\n",
    "# A list of rows representing the sudoku.\n",
    "rows = [ ]\n",
    "for r in range(9):\n",
    "    ok = False\n",
    "    while not ok:\n",
    "        row = input(\"Enter row #\" + str(r + 1) + \": \")\n",
    "        ok = len(row) == 9 or row.isdigit()\n",
    "        if not ok:\n",
    "            print(\"Incorrect row data - 9 digits required\")\n",
    "    rows.append(row)\n",
    "\n",
    "ok = True\n",
    "\n",
    "# Check if all rows are good.\n",
    "for r in range(9):\n",
    "    if not checkset(rows[r]):\n",
    "        ok = False\n",
    "        break\n",
    "\n",
    "# Check if all columns are good.\t\n",
    "if ok:\n",
    "    for c in range(9):\n",
    "        col = []\n",
    "        for r in range(9):\n",
    "            col.append(rows[r][c])\n",
    "        if not checkset(col):\n",
    "            ok = False\n",
    "            break\n",
    "\n",
    "# Check if all sub-squares (3x3) are good.\n",
    "if ok:\n",
    "    for r in range(0, 9, 3):\n",
    "        for c in range(0, 9, 3):\n",
    "            sqr = ''\n",
    "            # Make a string containing all digits from a sub-square.\n",
    "            for i in range(3):\n",
    "                sqr += rows[r+i][c:c+3]\n",
    "            if not checkset(list(sqr)):\n",
    "                ok = False\n",
    "                break\n",
    "\n",
    "# Print the final verdict.\n",
    "if ok:\n",
    "    print(\"Yes\")\n",
    "else:\n",
    "    print(\"No\")\n",
    "    "
   ]
  },
  {
   "cell_type": "code",
   "execution_count": 115,
   "id": "d39387e6",
   "metadata": {},
   "outputs": [
    {
     "name": "stdout",
     "output_type": "stream",
     "text": [
      "Enter the first number: 1\n",
      "Enter the second number: 0\n",
      "This operation cannot be done.\n",
      "THE END.\n"
     ]
    }
   ],
   "source": [
    "first_number = int(input(\"Enter the first number: \"))\n",
    "second_number = int(input(\"Enter the second number: \"))\n",
    "\n",
    "if second_number != 0:\n",
    "    print(first_number / second_number)\n",
    "else:\n",
    "    print(\"This operation cannot be done.\")\n",
    "\n",
    "print(\"THE END.\")\n",
    "    \n",
    "    "
   ]
  },
  {
   "cell_type": "code",
   "execution_count": 118,
   "id": "7aeb2b09",
   "metadata": {},
   "outputs": [
    {
     "name": "stdout",
     "output_type": "stream",
     "text": [
      "Enter the first number: 77\n",
      "Enter the second number: 88\n",
      "0.875\n",
      "THE END.\n"
     ]
    }
   ],
   "source": [
    "first_number = int(input(\"Enter the first number: \"))\n",
    "second_number = int(input(\"Enter the second number: \"))\n",
    "\n",
    "try:\n",
    "    print(first_number / second_number)\n",
    "except:\n",
    "    print(\"This operation cannot be done.\")\n",
    "\n",
    "print(\"THE END.\")\n",
    "    "
   ]
  },
  {
   "cell_type": "code",
   "execution_count": 131,
   "id": "a464a2d1",
   "metadata": {},
   "outputs": [
    {
     "name": "stdout",
     "output_type": "stream",
     "text": [
      "Enter a number: 0\n",
      "You cannot divide by zero, sorry.\n",
      "THE END.\n"
     ]
    }
   ],
   "source": [
    "try:\n",
    "    x = int(input(\"Enter a number: \"))\n",
    "    y = 1 / x\n",
    "    print(y)\n",
    "except ZeroDivisionError:\n",
    "    print(\"You cannot divide by zero, sorry.\")\n",
    "except ValueError:\n",
    "    print(\"You must enter an integer value.\")\n",
    "except:\n",
    "    print(\"Oh dear, something went wrong...\")\n",
    "\n",
    "print(\"THE END.\")\n",
    "    "
   ]
  },
  {
   "cell_type": "code",
   "execution_count": 132,
   "id": "d87cfc36",
   "metadata": {},
   "outputs": [
    {
     "name": "stdout",
     "output_type": "stream",
     "text": [
      "I did it again!\n",
      "I see!\n",
      "THE END.\n"
     ]
    }
   ],
   "source": [
    "def bad_fun(n):\n",
    "    try:\n",
    "        return n / 0\n",
    "    except:\n",
    "        print(\"I did it again!\")\n",
    "        raise\n",
    "\n",
    "\n",
    "try:\n",
    "    bad_fun(0)\n",
    "except ArithmeticError:\n",
    "    print(\"I see!\")\n",
    "\n",
    "print(\"THE END.\")"
   ]
  },
  {
   "cell_type": "code",
   "execution_count": 134,
   "id": "3e6a5ca9",
   "metadata": {},
   "outputs": [
    {
     "name": "stdout",
     "output_type": "stream",
     "text": [
      "some\n"
     ]
    }
   ],
   "source": [
    "try:\n",
    "    print(\"5\"/0)\n",
    "except ArithmeticError:\n",
    "    print(\"arith\")\n",
    "except ZeroDivisionError:\n",
    "    print(\"zero\")\n",
    "except:\n",
    "    print(\"some\")\n",
    " "
   ]
  },
  {
   "cell_type": "code",
   "execution_count": 135,
   "id": "bafdfc20",
   "metadata": {},
   "outputs": [
    {
     "name": "stdout",
     "output_type": "stream",
     "text": [
      "1\n"
     ]
    }
   ],
   "source": [
    "x = '\\''\n",
    "print(len(x))"
   ]
  },
  {
   "cell_type": "code",
   "execution_count": 136,
   "id": "2dda6e60",
   "metadata": {},
   "outputs": [
    {
     "name": "stdout",
     "output_type": "stream",
     "text": [
      "2\n"
     ]
    }
   ],
   "source": [
    "print(ord('c') - ord('a'))"
   ]
  },
  {
   "cell_type": "code",
   "execution_count": 138,
   "id": "29207e64",
   "metadata": {},
   "outputs": [
    {
     "name": "stdout",
     "output_type": "stream",
     "text": [
      "abcabcabcxyz\n"
     ]
    }
   ],
   "source": [
    "print(3 * 'abc' + 'xyz')"
   ]
  },
  {
   "cell_type": "code",
   "execution_count": 139,
   "id": "fa61fa36",
   "metadata": {},
   "outputs": [
    {
     "name": "stdout",
     "output_type": "stream",
     "text": [
      "False\n"
     ]
    }
   ],
   "source": [
    "print('Mike' > \"Mikey\")"
   ]
  },
  {
   "cell_type": "code",
   "execution_count": null,
   "id": "4a012272",
   "metadata": {},
   "outputs": [],
   "source": []
  }
 ],
 "metadata": {
  "kernelspec": {
   "display_name": "Python 3 (ipykernel)",
   "language": "python",
   "name": "python3"
  },
  "language_info": {
   "codemirror_mode": {
    "name": "ipython",
    "version": 3
   },
   "file_extension": ".py",
   "mimetype": "text/x-python",
   "name": "python",
   "nbconvert_exporter": "python",
   "pygments_lexer": "ipython3",
   "version": "3.11.5"
  }
 },
 "nbformat": 4,
 "nbformat_minor": 5
}
